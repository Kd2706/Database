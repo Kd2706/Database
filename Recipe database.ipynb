{
 "cells": [
  {
   "cell_type": "code",
   "execution_count": 185,
   "metadata": {},
   "outputs": [
    {
     "name": "stdout",
     "output_type": "stream",
     "text": [
      "Requirement already satisfied: psycopg2 in c:\\users\\koushik duari\\anaconda3\\lib\\site-packages (2.8.4)\n"
     ]
    }
   ],
   "source": [
    "!pip install psycopg2"
   ]
  },
  {
   "cell_type": "code",
   "execution_count": 192,
   "metadata": {},
   "outputs": [],
   "source": [
    "import psycopg2\n",
    "import pandas as pd\n",
    "import psycopg2.extras"
   ]
  },
  {
   "cell_type": "code",
   "execution_count": 193,
   "metadata": {},
   "outputs": [],
   "source": [
    "#creating database\n",
    "conn=psycopg2.connect(host=\"database-1.cggevlgjyvlj.us-east-2.rds.amazonaws.com\", user=\"postgres\", password=\"postgres\", database=\"recipe\")"
   ]
  },
  {
   "cell_type": "code",
   "execution_count": 194,
   "metadata": {},
   "outputs": [],
   "source": [
    "\n",
    "# Cursor is used to communicate with database\n",
    "mycursor=conn.cursor()\n",
    "\n",
    "# It will autocommit canges in database for the session\n",
    "conn.set_session(autocommit=True)\n",
    "\n",
    "query1=\"CREATE TABLE dish(dish_id INT PRIMARY KEY, cuisine_id INT NOT NULL)\"\n",
    "query2=\"CREATE TABLE cuisine(cuisine_id INT PRIMARY KEY, name VARCHAR NOT NULL)\"\n",
    "query3=\"CREATE TABLE recipe(recipe_id INT PRIMARY KEY,dish_id INT NOT NULL, ing_id INT NOT NULL)\"\n",
    "query4=\"CREATE TABLE ingredients(ing_id INT PRIMARY KEY, name VARCHAR NOT NULL)\"\n",
    "query=[query1,query2,query3,query4]"
   ]
  },
  {
   "cell_type": "code",
   "execution_count": 195,
   "metadata": {},
   "outputs": [],
   "source": [
    "data=pd.read_json('train.json')"
   ]
  },
  {
   "cell_type": "code",
   "execution_count": 196,
   "metadata": {},
   "outputs": [],
   "source": [
    "# For ingredients-- making a list of ingredients\n",
    "ing_list=[]\n",
    "for i in data['ingredients']:\n",
    "    for j in i:\n",
    "        ing_list.append(j)\n",
    "ing_list=list(set(ing_list))\n",
    "\n",
    "# For making a tuple-list of type of cuisine\n",
    "cuisine_list=[]\n",
    "for i in data['cuisine']:\n",
    "    cuisine_list.append(i)\n",
    "cuisine_list=list(set(cuisine_list))"
   ]
  },
  {
   "cell_type": "code",
   "execution_count": 197,
   "metadata": {},
   "outputs": [
    {
     "data": {
      "text/plain": [
       "['irish', 'japanese', 'indian', 'mexican', 'moroccan']"
      ]
     },
     "execution_count": 197,
     "metadata": {},
     "output_type": "execute_result"
    }
   ],
   "source": [
    "cuisine_list[0:5]  #example"
   ]
  },
  {
   "cell_type": "code",
   "execution_count": 199,
   "metadata": {},
   "outputs": [],
   "source": [
    "# Inserting ingredients into the database table\n",
    "ing_listf=[]\n",
    "for i in ing_list:\n",
    "    ing_listf.append((ing_list.index(i)+1000,i))\n",
    "insert_query1 = 'INSERT INTO ingredients (ing_id,name) VALUES %s'\n",
    "psycopg2.extras.execute_values(mycursor, insert_query1, ing_listf, template=None, page_size=10000)"
   ]
  },
  {
   "cell_type": "code",
   "execution_count": 200,
   "metadata": {},
   "outputs": [],
   "source": [
    "# Inserting cuisine into the database table\n",
    "cuisine_listf=[]\n",
    "for i in cuisine_list:\n",
    "    cuisine_listf.append((cuisine_list.index(i)+10,i))\n",
    "insert_query2 = 'INSERT INTO cuisine (cuisine_id,name) VALUES %s'\n",
    "psycopg2.extras.execute_values(mycursor, insert_query2, cuisine_listf, template=None, page_size=10000)"
   ]
  },
  {
   "cell_type": "code",
   "execution_count": 201,
   "metadata": {},
   "outputs": [],
   "source": [
    "# Tuple list for table dish\n",
    "dish_listf=[]\n",
    "for (i,j) in zip(data[\"id\"],data['cuisine']):\n",
    "    dish_listf.append((i,cuisine_list.index(j)+10))\n",
    "insert_query3 = 'INSERT INTO dish (dish_id,cuisine_id) VALUES %s'\n",
    "psycopg2.extras.execute_values(mycursor, insert_query3, dish_listf, template=None, page_size=10000)"
   ]
  },
  {
   "cell_type": "code",
   "execution_count": 202,
   "metadata": {},
   "outputs": [],
   "source": [
    "# Tuple list for recipe table\n",
    "recipe_listf=[]\n",
    "recipe_id=110000\n",
    "for (i,j) in zip(data['id'],data['ingredients']):\n",
    "    for k in j:\n",
    "        recipe_listf.append((recipe_id,i,ing_list.index(k)))\n",
    "        recipe_id+=1"
   ]
  },
  {
   "cell_type": "code",
   "execution_count": 203,
   "metadata": {},
   "outputs": [
    {
     "data": {
      "text/plain": [
       "428275"
      ]
     },
     "execution_count": 203,
     "metadata": {},
     "output_type": "execute_result"
    }
   ],
   "source": [
    "len(recipe_listf)"
   ]
  },
  {
   "cell_type": "code",
   "execution_count": 204,
   "metadata": {},
   "outputs": [
    {
     "data": {
      "text/plain": [
       "[(110000, 10259, 1918),\n",
       " (110001, 10259, 4049),\n",
       " (110002, 10259, 4969),\n",
       " (110003, 10259, 6107),\n",
       " (110004, 10259, 547)]"
      ]
     },
     "execution_count": 204,
     "metadata": {},
     "output_type": "execute_result"
    }
   ],
   "source": [
    "recipe_listf[0:5]"
   ]
  },
  {
   "cell_type": "code",
   "execution_count": null,
   "metadata": {},
   "outputs": [],
   "source": []
  }
 ],
 "metadata": {
  "kernelspec": {
   "display_name": "Python 3",
   "language": "python",
   "name": "python3"
  },
  "language_info": {
   "codemirror_mode": {
    "name": "ipython",
    "version": 3
   },
   "file_extension": ".py",
   "mimetype": "text/x-python",
   "name": "python",
   "nbconvert_exporter": "python",
   "pygments_lexer": "ipython3",
   "version": "3.7.3"
  }
 },
 "nbformat": 4,
 "nbformat_minor": 2
}
